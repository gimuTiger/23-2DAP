{
  "nbformat": 4,
  "nbformat_minor": 0,
  "metadata": {
    "colab": {
      "provenance": []
    },
    "kernelspec": {
      "name": "python3",
      "display_name": "Python 3"
    },
    "language_info": {
      "name": "python"
    }
  },
  "cells": [
    {
      "cell_type": "code",
      "execution_count": 7,
      "metadata": {
        "colab": {
          "base_uri": "https://localhost:8080/"
        },
        "id": "sRtQY1J5avRc",
        "outputId": "e40b5f4c-aa62-4c76-aeed-e055c606c1c7"
      },
      "outputs": [
        {
          "output_type": "stream",
          "name": "stdout",
          "text": [
            "R은 반순서 관계입니다.\n"
          ]
        }
      ],
      "source": [
        "X = {1, 2, 3, 4, 5}                       # 집합 X 정의\n",
        "R = {(1,1), (2,2), (3,3), (4,4), (5,5), (1,2), (1,5), (2,5), (3,5), (4,5)}            # 관계 R 정의\n",
        "\n",
        "def is_partial_order(R, A):                                                           # 집합 A와 관계 R이 반순서 관계임을 확인하는 함수 정의\n",
        "  if not all((a, a) in R for a in A):                                                 # R에 A의 원소 a에 대한 (a, a)가 하나라도 없다면(반사적이지 않다면)\n",
        "    return False                                                                      # False 반환\n",
        "  for a, b in R:                                                                      # R에 속하는 (a,b) 에 대하여\n",
        "    if a != b and (b, a) in R:                                                        # a != b 이고, (b, a)인 것이 존재한다면 (반대칭적이지 않다면)\n",
        "      return False                                                                    # False 반환\n",
        "  for x in X:                                                                         # X에 존재하는 x\n",
        "    for y in X:                                                                       # X에 존재하는 y\n",
        "      for z in X:                                                                     # X에 존재하는 z 에 대하여,\n",
        "        if (x, y) in R and (y, z) in R and (x, z) not in R:                           # (x,y) 가 R에 있고, (y, z) 가 R에 있는데 (x, z)가 R에 없다면 (추이적이지 않다면)\n",
        "          return False                                                                # False 반환\n",
        "  return True                                                                         # 반사적이고, 반대칭적이고, 추이적이라면 True 반환\n",
        "\n",
        "def is_total_order(R, A):                                                             # A와 R이 전순서 관계임을 확인하는 함수 정의\n",
        "  for x in X:                                                                         # X에 존재하는 x\n",
        "    has_successor = False                                                             # 원소가 비교 가능한지 확인하는 변수 초기화\n",
        "    for y in X:                                                                       # X에 존재하는 y\n",
        "      if (x, y) in R:                                                                 # 원소 x와 비교 가능한 y가 존재할 경우\n",
        "        has_successor = True                                                          # 비교 가능 확인 변수에 True 를 넣음\n",
        "        break                                                                         # 다음 원소로 넘어가기 위해 break\n",
        "    if not has_successor:                                                             # 만약 비교 불가능인 원소가 있을 경우\n",
        "      return False                                                                    # False 반환\n",
        "  return True                                                                         # 모든 원소들이 서로 비교가 가능하다면 True 반환\n",
        "\n",
        "if is_partial_order(R, X):                                                            # 반순서 확인 함수가 True를 반환했다면\n",
        "  print(\"R은 반순서 관계입니다.\")                                                     # 반순서 관계라는 문자열 출력\n",
        "elif is_total_order(R, X):                                                            # 반순서가 아니고, 전순서 관계 확인 함수가 True를 반환했다면\n",
        "  print(\"R은 전순서 관계입니다.\")                                                     # 전순서 관계라는 문자열 출력\n",
        "else:                                                                                 # 둘 다 아니라면,\n",
        "  print(\"R은 반순서도 전순서도 아닙니다.\")                                            # 둘다 아니라는 문자열 출력"
      ]
    }
  ]
}