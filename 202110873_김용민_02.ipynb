{
  "nbformat": 4,
  "nbformat_minor": 0,
  "metadata": {
    "colab": {
      "provenance": []
    },
    "kernelspec": {
      "name": "python3",
      "display_name": "Python 3"
    },
    "language_info": {
      "name": "python"
    }
  },
  "cells": [
    {
      "cell_type": "code",
      "execution_count": 11,
      "metadata": {
        "colab": {
          "base_uri": "https://localhost:8080/"
        },
        "id": "QENHJoQ3ZHaF",
        "outputId": "e7d9c3c4-daed-444d-c90a-84ada94fd43e"
      },
      "outputs": [
        {
          "output_type": "stream",
          "name": "stdout",
          "text": [
            " 4  4  5  5  9  9 10 10 25 25 26 26 30 30 31 -1\n",
            " 4  3  3  5  9  8  8 10 25 24 24 26 30 29 31 31\n",
            " 6  3  7  7 11 11  8 12 27 24 28 28 32 29 29 33\n",
            " 6  6  7  2  2 11 12 12 27 27 28 23 32 32 33 33\n",
            "14 14 15  2 19 19 20 20 35 35 36 23 23 40 41 41\n",
            "14 13 15 15 19 18 18 20 35 34 36 36 40 40 39 41\n",
            "16 13 13 17 21 18 22 22 37 34 34 38 42 39 39 43\n",
            "16 16 17 17 21 21 22  1 37 37 38 38 42 42 43 43\n",
            "46 46 47 47 51 51 52  1  1 67 68 68 72 72 73 73\n",
            "46 45 45 47 51 50 52 52 67 67 66 68 72 71 71 73\n",
            "48 45 49 49 53 50 50 54 69 66 66 70 74 74 71 75\n",
            "48 48 49 44 53 53 54 54 69 69 70 70 65 74 75 75\n",
            "56 56 57 44 44 61 62 62 77 77 78 65 65 82 83 83\n",
            "56 55 57 57 61 61 60 62 77 76 78 78 82 82 81 83\n",
            "58 55 55 59 63 60 60 64 79 76 76 80 84 81 81 85\n",
            "58 58 59 59 63 63 64 64 79 79 80 80 84 84 85 85\n"
          ]
        }
      ],
      "source": [
        "def tromino_tile(board, top, left, size, missing_x, missing_y, current_id):         # 트로미노 타일을 만드는 함수 선언\n",
        "    if size == 2:                                                                   # 사이즈가 2x2 일때\n",
        "        # Base case: 2x2 보드에 트로미노 1개 배치하기\n",
        "        for i in range(2):                                                          # i가 0~1 까지 루프를 돈다\n",
        "            for j in range(2):                                                      # j가 0~1 까지 루프를 돈다\n",
        "                if board[top + i][left + j] == 0:                                   # (i, j) 보드가 채워져 있지 않다면\n",
        "                    board[top + i][left + j] = current_id                           # 현재 저장되어 있는 순서(current_id)를 채운다\n",
        "        return current_id + 1  # Increment ID for the next tromino                  # 순서에 해당하는 토르미노를 다 채웠다면 다음 순서로 넘어간다.\n",
        "\n",
        "    # 중앙 찾기\n",
        "    half = size // 2                                        # 절반은 size // 2 이다.\n",
        "    center_x, center_y = top + half, left + half            # 중앙의 좌표는 상단,좌측 좌표에 절반을 더한 값이다.\n",
        "\n",
        "    # 필요할 경우 중앙에 트로미노 배치\n",
        "    missing_quadrant = 0                    # 중앙 사분면에 빈 공간을 계산하기 위해 초기화를 진행한다.\n",
        "    if missing_x < center_x:                # 빈칸의 x좌표보다 중앙의 x좌표가 작다면\n",
        "        if missing_y < center_y:            # 빈칸의 y좌표보다 중앙의 y좌표가 작다면\n",
        "            missing_quadrant = 1            # 1을 저장\n",
        "        else:                               # 중앙의 y좌표가 크면\n",
        "            missing_quadrant = 2            # 2를 저장\n",
        "    else:                                   # 중앙의 x좌표가 크면\n",
        "        if missing_y < center_y:            # 빈칸의 y좌표보다 중앙의 y좌표가 작다면\n",
        "            missing_quadrant = 3            # 3을 저장\n",
        "        else:                               # 중앙의 y좌표가 크면\n",
        "            missing_quadrant = 4            # 4를 저장\n",
        "\n",
        "    # 중앙의 사분면을 덮도록 트로미노를 배치\n",
        "\n",
        "    if missing_quadrant != 1:                                     # missing_quadrant 가 1이면\n",
        "        board[center_x - 1][center_y - 1] = current_id            # ㄴ의 반대 모양이 되도록 채우고,\n",
        "    if missing_quadrant != 2:                                     # 2이면\n",
        "        board[center_x - 1][center_y] = current_id                # ㄱ의 반대 모양이 되도록 채우고,\n",
        "    if missing_quadrant != 3:                                     # 3이면\n",
        "        board[center_x][center_y - 1] = current_id                # ㄴ 모양이 되도록 채우고,\n",
        "    if missing_quadrant != 4:                                     # 4이면\n",
        "        board[center_x][center_y] = current_id                    # ㄱ 모양이 되도록 채운다.\n",
        "\n",
        "    current_id += 1                                               # 중앙을 채우면 다음 트로미노 순서로 넘어간다.\n",
        "\n",
        "    # 사분면 단위로 재귀호출\n",
        "\n",
        "    # 왼쪽 위\n",
        "    new_missing_x, new_missing_y = (center_x - 1, center_y - 1) if missing_quadrant != 1 else (missing_x, missing_y)          # 왼쪽 위의 칸이 빈칸으로 가능하다면 좌표를 new_missing_x, new_missing_y 변수에 저장\n",
        "    current_id = tromino_tile(board, top, left, half, new_missing_x, new_missing_y, current_id)                               # 재귀 호출\n",
        "\n",
        "    # 오른쪽 위\n",
        "    new_missing_x, new_missing_y = (center_x - 1, center_y) if missing_quadrant != 2 else (missing_x, missing_y)              # 오른쪽 위의 칸이 빈칸으로 가능하다면 좌표를 new_missing_x, new_missing_y 변수에 저장\n",
        "    current_id = tromino_tile(board, top, left + half, half, new_missing_x, new_missing_y, current_id)                        # 재귀 호출\n",
        "\n",
        "    # 왼쪽 아래\n",
        "    new_missing_x, new_missing_y = (center_x, center_y - 1) if missing_quadrant != 3 else (missing_x, missing_y)              # 왼쪽 아래의 칸이 빈칸으로 가능하다면 좌표를 new_missing_x, new_missing_y 변수에 저장\n",
        "    current_id = tromino_tile(board, top + half, left, half, new_missing_x, new_missing_y, current_id)                        # 재귀 호출\n",
        "\n",
        "    # 오른쪽 아래\n",
        "    new_missing_x, new_missing_y = (center_x, center_y) if missing_quadrant != 4 else (missing_x, missing_y)                  # 오른쪽 아래의 칸이 빈칸으로 가능하다면 좌표를 new_missing_x, new_missing_y 변수에 저장\n",
        "    current_id = tromino_tile(board, top + half, left + half, half, new_missing_x, new_missing_y, current_id)                 # 재귀 호출\n",
        "\n",
        "    return current_id                                                                                                         # 현재 순서 반환\n",
        "\n",
        "# 보드 초기화 및 트로미노 문제 알고리즘 실행\n",
        "\n",
        "size = 16                                                                           # 사이즈를 16x16 으로 하기 위해 size 변수에 16을 넣어 준다.\n",
        "missing = (0, size-1)                                                               # 빈칸을 중앙(size//2,size//2)이 아닌 우측 상단(0, size-1)로 바꾼다.\n",
        "board = [[0 for _ in range(size)] for _ in range(size)]                             # 16x16 사이즈의 보드를 초기화 한다.\n",
        "board[missing[0]][missing[1]] = -1                                                  # 빈칸으로 정의한 우측 상단에 -1 을 넣어 준다.\n",
        "current_id = 1                                                                      # 시작 번호를 1로 초기화 한다.\n",
        "tromino_tile(board, 0, 0, size, missing[0], missing[1], current_id)                 # 알고리즘을 실행한다.\n",
        "\n",
        "# 보드 프린트\n",
        "\n",
        "for row in board:                                                                   # 매 열마다 반복\n",
        "    print(' '.join(str(cell).rjust(2) for cell in row))                             # 열에 들어 있는 숫자를 반복하여 출력하고 다음 열로 넘어간다."
      ]
    }
  ]
}