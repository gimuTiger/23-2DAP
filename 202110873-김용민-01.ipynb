{
  "nbformat": 4,
  "nbformat_minor": 0,
  "metadata": {
    "colab": {
      "provenance": []
    },
    "kernelspec": {
      "name": "python3",
      "display_name": "Python 3"
    },
    "language_info": {
      "name": "python"
    }
  },
  "cells": [
    {
      "cell_type": "code",
      "execution_count": 7,
      "metadata": {
        "colab": {
          "base_uri": "https://localhost:8080/"
        },
        "id": "QrawlQhKcUhB",
        "outputId": "219e03ac-6be9-4daa-9703-f3b9dcb91103"
      },
      "outputs": [
        {
          "output_type": "stream",
          "name": "stdout",
          "text": [
            "(A ∪ B)c = {6}\n",
            "Ac ∩ Bc =  {6} \n",
            "\n",
            "(A ∩ B)c =  {1, 2, 4, 6, 7}\n",
            "Ac ∪ Bc =  {1, 2, 4, 6, 7}\n"
          ]
        }
      ],
      "source": [
        "U = {1, 2, 3, 4, 5, 6, 7}           # 전체집합 U 를 선언\n",
        "A = {1, 3, 5, 7}                    # 집합 A를 선언\n",
        "B = {2, 3, 4, 5}                    # 집합 B를 선언\n",
        "\n",
        "A_c = U.difference(A)               # 두 집합의 차집합을 반환하는 difference() 메소드를 사용하여 A의 여집합을 구함 (U - A 가 A의 여집합 이기 때문)\n",
        "B_c = U.difference(B)               # 위와 동일한 방식으로 B의 여집합을 구함\n",
        "\n",
        "A_B_hap = A.union(B)                # 두 집합의 합집합을 반환하는 union() 메소드를 사용하여 A와 B의 합집합을 구함\n",
        "A_B_gyo = A.intersection(B)         # 두 집합의 교집합을 반환하는 intersection() 메소드를 사용하여 A와 B의 여집합을 구함\n",
        "\n",
        "hap_c = U.difference(A_B_hap)       # difference() 메소드를 사용하여 합집합의 여집합을 구함 (U - 합집합)\n",
        "Ac_gyo_Bc = A_c.intersection(B_c)   # intersection() 메소드를 사용하여 A,B의 여집합의 교집합을 구함\n",
        "\n",
        "print(\"(A ∪ B)c =\", hap_c)          # 결과를 출력해보면, 둘 다 {6} 라는 결과가 나옴\n",
        "print(\"Ac ∩ Bc = \", Ac_gyo_Bc, \"\\n\")      # 즉, (A ∪ B)c = Ac ∩ Bc 이 성립한다는 것을 알 수 있음\n",
        "\n",
        "gyo_c = U.difference(A_B_gyo)       # 마찬가지로, difference() 메소드를 사용하여 교집합의 여집합을 구함 (U - 교집합)\n",
        "Ac_hap_Bc = A_c.union(B_c)          # union() 메소드를 사용하여 여집합의 합집합을 구함\n",
        "\n",
        "print(\"(A ∩ B)c = \", gyo_c)        # 결과를 출력해보면, 둘 다 {1, 2, 4, 6, 7} 라는 결과가 나옴\n",
        "print(\"Ac ∪ Bc = \", Ac_hap_Bc)     # 즉, (A ∩ B)c = Ac ∪ Bc 이 성립한다는 것을 알 수 있음"
      ]
    }
  ]
}