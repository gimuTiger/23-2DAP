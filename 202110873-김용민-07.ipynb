{
  "nbformat": 4,
  "nbformat_minor": 0,
  "metadata": {
    "colab": {
      "provenance": []
    },
    "kernelspec": {
      "name": "python3",
      "display_name": "Python 3"
    },
    "language_info": {
      "name": "python"
    }
  },
  "cells": [
    {
      "cell_type": "code",
      "execution_count": 2,
      "metadata": {
        "colab": {
          "base_uri": "https://localhost:8080/"
        },
        "id": "v6ALAqgtP_kK",
        "outputId": "77011aa8-e2b6-42ae-c8d6-86e581a8f47d"
      },
      "outputs": [
        {
          "output_type": "stream",
          "name": "stdout",
          "text": [
            "(3, 2): [(2, 2), (1, 2), (0, 2), (3, 1), (3, 0)]\n",
            "(2, 2): [(1, 2), (0, 2), (2, 1), (2, 0)]\n",
            "(1, 2): [(0, 2), (1, 1), (1, 0)]\n",
            "(0, 2): [(0, 1), (0, 0)]\n",
            "(0, 1): [(0, 0)]\n",
            "(0, 0): []\n",
            "(1, 1): [(0, 1), (1, 0)]\n",
            "(1, 0): [(0, 0)]\n",
            "(2, 1): [(1, 1), (0, 1), (2, 0)]\n",
            "(2, 0): [(1, 0), (0, 0)]\n",
            "(3, 1): [(2, 1), (1, 1), (0, 1), (3, 0)]\n",
            "(3, 0): [(2, 0), (1, 0), (0, 0)]\n"
          ]
        }
      ],
      "source": [
        "class NimGame:                                                                    # nim 게임 클래스 정의\n",
        "    def __init__(self, heaps):                                                    # 초기화 함수 정의\n",
        "        self.heaps = heaps                                                        # 초기 더미 상태를 설정\n",
        "        self.game_tree = {}                                                       # 게임 트리를 저장할 딕셔너리를 초기화\n",
        "\n",
        "    def generate_game_tree(self, current_state=None):                             # 게임트리를 만드는 함수 정의\n",
        "        if current_state is None:                                                 # 현재 상태(current_state 변수)가 None 이라면\n",
        "            current_state = tuple(self.heaps)                                     # 현재 상태를 초기 상태로 저장\n",
        "        if current_state in self.game_tree:                                       # 현재 상태가 이미 게임 트리에 존재한다면\n",
        "            return self.game_tree[current_state]                                  # 그 상태를 반환\n",
        "\n",
        "        self.game_tree[current_state] = []                                        # 현재 상태에서 가능한 모든 경우의 수를 저장할 리스트를 초기화\n",
        "        for i, tokens in enumerate(current_state):                                # 재귀 호출을 이용하여 설계\n",
        "            for remove in range(1, tokens + 1):                                   # 각 더미에서 1개 이상의 토큰을 제거하여 새로운 상태 생성하며 반복\n",
        "                new_state = list(current_state)                                   # 현재 상태를 가지고 있는 리스트를 생성하고 new_state(새 상태)에 저장\n",
        "                new_state[i] -= remove                                            # 새 상태의 i번째 원소를 remove 만큼 제거\n",
        "                new_state = tuple(new_state)                                      # 결과를 튜플로 생성\n",
        "                if new_state not in self.game_tree:                               # 나온 결과가 게임 트리에 없다면\n",
        "                    self.generate_game_tree(new_state)                            # 재귀 호출하여 다음 경우의 수를 찾으러 감\n",
        "                self.game_tree[current_state].append(new_state)                   # 게임 트리에 없는 것을 새 상태에 모두 채웠으면 게임 트리에 새 상태를 추가\n",
        "\n",
        "        return self.game_tree                                                     # 게임 트리를 반환\n",
        "\n",
        "    def print_game_tree(self):                                                    # 게임 트리를 출력하는 함수 정의\n",
        "        for state, moves in self.game_tree.items():                               # 게임 트리의 경우의 수 만큼 반복하며 출력\n",
        "            print(f\"{state}: {moves}\")                                            # 현재 개수와 그 개수에서의 경우의 수를 출력\n",
        "\n",
        "initial_heaps = [3, 2]                                                            # 문제에서 제시한 더미 상태 설정(3, 2)\n",
        "\n",
        "nim_game = NimGame(initial_heaps)                                                 # NimGame 클래스 함수에 더미 상태를 매개변수로 인스턴스를 생성\n",
        "\n",
        "nim_game.generate_game_tree()                                                     # (3, 2)에 해당하는 게임 트리 생성\n",
        "\n",
        "nim_game.print_game_tree()                                                        # 생성한 게임트리 출력\n",
        "\n",
        "\n",
        "# 문제 해결을 위해 ChatGPT 를 사용한 부분은 다음과 같습니다.\n",
        "# 1. 이 알고리즘을 작성하기 위하여 재귀 함수를 어떤 식으로 설계해야 할 지 질문했습니다.\n",
        "# 2. 파이썬에서의 클래스 사용에 대해 익숙치 않아 설명을 요청했습니다.\n",
        "# 3. 작성한 재귀 함수가 정상 작동하지 않아 잘못된 곳을 찾아 수정해달라고 요청했습니다."
      ]
    }
  ]
}