{
  "nbformat": 4,
  "nbformat_minor": 0,
  "metadata": {
    "colab": {
      "provenance": []
    },
    "kernelspec": {
      "name": "python3",
      "display_name": "Python 3"
    },
    "language_info": {
      "name": "python"
    }
  },
  "cells": [
    {
      "cell_type": "code",
      "execution_count": 8,
      "metadata": {
        "colab": {
          "base_uri": "https://localhost:8080/"
        },
        "id": "jluyhmvBOxjh",
        "outputId": "b6574057-ff9f-47eb-c1db-a9ae908a2350"
      },
      "outputs": [
        {
          "output_type": "stream",
          "name": "stdout",
          "text": [
            "1미터에 도달할 수 있는 경우의 수:  1\n",
            "2미터에 도달할 수 있는 경우의 수:  2\n",
            "5미터에 도달할 수 있는 경우의 수:  13\n"
          ]
        }
      ],
      "source": [
        "# 이 알고리즘은 동적 프로그래밍을 사용하여 해결할 수 있다.\n",
        "# n미터에 도달할 때 까지 1미터 단위로 갈 수 있는 경우의 수를 모두 더하면 n미터에 도달할 수 있는 경우의 수를 구할 수 있다.\n",
        "\n",
        "def count_ways(n):                                                                # n미터를 갈 수 있는 경우의 수를 구하는 함수를 정의\n",
        "  dp = [0] * (n+1)                                                                # 0부터 n까지의 방법의 수를 저장할 리스트 생성\n",
        "\n",
        "  dp[0] = 1                                                                       # 초기값 설정\n",
        "\n",
        "  for i in range(1, n+1):                                                         # 동적 프로그래밍을 사용하여 경우의 수를 구함, 1부터 n까지 반복\n",
        "    for step in [1, 2, 3]:                                                        # 로봇이 한 걸음에 간 미터수가 1, 2, 3미터 일 때를 반복\n",
        "      if i - step >= 0:                                                           # 만약 현재 위치와 step의 차가 0보다 크거나 같을 경우 (step 만큼 이동하여 현재 위치에 도달할 수 있는 경우)\n",
        "        dp[i] += dp[i - step]                                                     # 현재 위치 경우의 수에 step만큼 뒤의 위치의 경우의 수를 더함\n",
        "  return dp[n]                                                                    # n미터 까지 반복하여 구한 경우의 수를 반환\n",
        "\n",
        "print('1미터에 도달할 수 있는 경우의 수: ', count_ways(1))                        # 예시로 1미터에 도달할 수 있는 경우의 수 출력\n",
        "print('2미터에 도달할 수 있는 경우의 수: ', count_ways(2))                        # 예시로 2미터에 도달할 수 있는 경우의 수 출력\n",
        "print('5미터에 도달할 수 있는 경우의 수: ', count_ways(5))                        # 예시로 5미터에 도달할 수 있는 경우의 수 출력"
      ]
    }
  ]
}